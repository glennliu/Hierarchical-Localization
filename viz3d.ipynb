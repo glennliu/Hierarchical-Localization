{
 "cells": [
  {
   "cell_type": "markdown",
   "metadata": {},
   "source": [
    "# Visualize 3D alignment"
   ]
  },
  {
   "cell_type": "markdown",
   "metadata": {},
   "source": [
    "### Set environment"
   ]
  },
  {
   "cell_type": "code",
   "execution_count": null,
   "metadata": {},
   "outputs": [],
   "source": [
    "import os \n",
    "import numpy as np\n",
    "import open3d as o3d\n",
    "from open3d.web_visualizer import draw\n",
    "\n",
    "DATAROOT = '/data2/sgslam/scans'\n",
    "SRC_SCAN = 'uc0150_00'\n",
    "REF_SCAN = 'uc0150_01'\n",
    "SRC_FRAME = 'frame-000050'\n",
    "REF_FRAME = 'frame-000000'\n",
    "PRED_FOLDER = '/data2/sfm/multi_agent'\n",
    "\n",
    "src_depth_p = os.path.join(DATAROOT, SRC_SCAN, 'depth', SRC_FRAME+'.png')\n",
    "ref_depth_p = os.path.join(DATAROOT, REF_SCAN, 'depth', REF_FRAME+'.png')"
   ]
  },
  {
   "cell_type": "markdown",
   "metadata": {},
   "source": [
    "## Load pcd from depth images"
   ]
  },
  {
   "cell_type": "code",
   "execution_count": null,
   "metadata": {},
   "outputs": [],
   "source": [
    "K = np.loadtxt(os.path.join(DATAROOT, SRC_SCAN, 'intrinsic', 'intrinsic_depth.txt')) # \n",
    "intrinsic = o3d.camera.PinholeCameraIntrinsic()\n",
    "intrinsic.set_intrinsics(640, 480, K[0,0], K[1,1], K[0,2], K[1,2])\n",
    "\n",
    "src_depth = o3d.io.read_image(src_depth_p)\n",
    "ref_depth = o3d.io.read_image(ref_depth_p)\n",
    "src_pcd = o3d.geometry.PointCloud.create_from_depth_image(src_depth, intrinsic)\n",
    "ref_pcd = o3d.geometry.PointCloud.create_from_depth_image(ref_depth, intrinsic)\n",
    "src_pcd.paint_uniform_color([1, 0.706, 0])\n",
    "ref_pcd.paint_uniform_color([0, 0.651, 0.929])\n",
    "print('Load {} and {}'.format(SRC_FRAME, REF_FRAME))\n"
   ]
  },
  {
   "cell_type": "markdown",
   "metadata": {},
   "source": [
    "## Load alignment and transform"
   ]
  },
  {
   "cell_type": "code",
   "execution_count": null,
   "metadata": {},
   "outputs": [],
   "source": [
    "from ri_looper import  read_loop_transformations\n",
    "src_pose_f = os.path.join(DATAROOT, SRC_SCAN, 'pose', SRC_FRAME+'.txt')\n",
    "ref_pose_f = os.path.join(DATAROOT, REF_SCAN, 'pose', REF_FRAME+'.txt')\n",
    "scene_pair = '{}-{}'.format(SRC_SCAN,REF_SCAN)\n",
    "pred_pose_f = os.path.join(PRED_FOLDER, scene_pair, 'pnp', SRC_FRAME+'.txt')\n",
    "frame_pairs, poses = read_loop_transformations(pred_pose_f)\n",
    "T_src = np.loadtxt(src_pose_f) # T_w_src\n",
    "T_ref = np.loadtxt(ref_pose_f) # T_w_ref\n",
    "print('src pose: ', src_pose_f)\n",
    "print('ref pose: ', ref_pose_f)\n",
    "pred_pose = poses[0] # T_ref_src\n",
    "T_src_pred = T_ref @ pred_pose\n",
    "# src_pcd.transform(T_src)\n",
    "src_pcd.transform(T_src_pred)\n",
    "ref_pcd.transform(T_ref)\n"
   ]
  },
  {
   "cell_type": "markdown",
   "metadata": {},
   "source": [
    "## Visualize"
   ]
  },
  {
   "cell_type": "code",
   "execution_count": null,
   "metadata": {},
   "outputs": [],
   "source": [
    "draw([src_pcd,ref_pcd])\n",
    "\n",
    "if True:\n",
    "    viz_dir = os.path.join(PRED_FOLDER, SRC_SCAN, 'viz', '{}-{}.ply'.format(SRC_FRAME, REF_FRAME))\n",
    "    viz_pcd = o3d.geometry.PointCloud()\n",
    "    viz_pcd += src_pcd\n",
    "    viz_pcd += ref_pcd\n",
    "    o3d.io.write_point_cloud(viz_dir, viz_pcd)\n"
   ]
  }
 ],
 "metadata": {
  "kernelspec": {
   "display_name": "hloc",
   "language": "python",
   "name": "python3"
  },
  "language_info": {
   "codemirror_mode": {
    "name": "ipython",
    "version": 3
   },
   "file_extension": ".py",
   "mimetype": "text/x-python",
   "name": "python",
   "nbconvert_exporter": "python",
   "pygments_lexer": "ipython3",
   "version": "3.9.21"
  }
 },
 "nbformat": 4,
 "nbformat_minor": 2
}
